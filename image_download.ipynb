{
 "cells": [
  {
   "cell_type": "markdown",
   "metadata": {
    "id": "2RHNJgB3RlDM"
   },
   "source": [
    "# 1장. 연예인 사진 모으기 프로젝트"
   ]
  },
  {
   "cell_type": "markdown",
   "metadata": {
    "id": "N4u-Y2-oRlDO"
   },
   "source": [
    "## 1.2.1 회원가입\n",
    "- 카카오 개발자 사이트 : https://developers.kakao.com"
   ]
  },
  {
   "cell_type": "markdown",
   "metadata": {
    "id": "h6EL60oDRlDS"
   },
   "source": [
    "## 1.3.1 파일 읽고, 쓰기"
   ]
  },
  {
   "cell_type": "code",
   "execution_count": 1,
   "metadata": {
    "id": "p4DGNEj0RlDT"
   },
   "outputs": [
    {
     "name": "stdout",
     "output_type": "stream",
     "text": [
      "========= [파일 읽기 결과] =========\n",
      "hello\n"
     ]
    }
   ],
   "source": [
    "# 파일 쓰기\n",
    "data = \"hello\"\n",
    "with open(\"test.txt\", \"w\") as fp:\n",
    "    fp.write(data)\n",
    "\n",
    "# 파일 읽기\n",
    "with open(\"test.txt\", \"r\") as fp:\n",
    "    print(\"========= [파일 읽기 결과] =========\")\n",
    "    print(fp.read())"
   ]
  },
  {
   "cell_type": "markdown",
   "metadata": {
    "id": "iqBCEdMtRlDV"
   },
   "source": [
    "## 1.3.2 웹에 있는 이미지 파일을 저장하는 방법\n",
    "- https://search1.kakaocdn.net/argon/600S0_65_wr/ImZk3b2X1w8"
   ]
  },
  {
   "cell_type": "code",
   "execution_count": 2,
   "metadata": {
    "id": "dUr1VglmRlDW"
   },
   "outputs": [
    {
     "name": "stdout",
     "output_type": "stream",
     "text": [
      "========= [이미지 저장] =========\n"
     ]
    }
   ],
   "source": [
    "import requests\n",
    "\n",
    "# 이미지가 있는 url 주소\n",
    "url = \"https://search1.kakaocdn.net/argon/600x0_65_wr/ImZk3b2X1w8\" \n",
    "\n",
    "# 해당 url로 서버에게 요청\n",
    "img_response = requests.get(url)\n",
    "\n",
    "# 요청에 성공했다면,\n",
    "if img_response.status_code == 200:\n",
    "    #print(img_response.content)\n",
    "\n",
    "    print(\"========= [이미지 저장] =========\")\n",
    "    with open(\"test.jpg\", \"wb\") as fp:\n",
    "        fp.write(img_response.content)"
   ]
  },
  {
   "cell_type": "markdown",
   "metadata": {
    "id": "9NesVX5zRlDX"
   },
   "source": [
    "# 1.4 구현하기"
   ]
  },
  {
   "cell_type": "markdown",
   "metadata": {
    "id": "M__xMVJZRlDY"
   },
   "source": [
    "## Step 1) 카카오 이미지 검색 OpenAPI 호출하기\n",
    "- 카카오 이미지 검색 OpenAPI 문서 : https://developers.kakao.com/docs/latest/ko/daum-search/dev-guide#search-image"
   ]
  },
  {
   "cell_type": "code",
   "execution_count": 4,
   "metadata": {
    "id": "AviUIaBWRlDZ",
    "scrolled": false
   },
   "outputs": [
    {
     "name": "stdout",
     "output_type": "stream",
     "text": [
      "[0th] image_url = https://t1.daumcdn.net/cfile/tistory/9989BB3A5E005E1433\n",
      "[1th] image_url = http://www.viva100.com/mnt/images/file/2020y/04m/22d/2020042201001751400079881.jpg\n",
      "[2th] image_url = https://t1.daumcdn.net/news/202001/08/inews24/20200108172910467rmbl.jpg\n",
      "[3th] image_url = https://img.huffingtonpost.com/asset/5dc3b5a1210000675bad5191.jpeg?ops=scalefit_630_noupscale\n",
      "[4th] image_url = https://t1.daumcdn.net/news/201911/19/mk/20191119173322496cdol.jpg\n",
      "[5th] image_url = https://img.huffingtonpost.com/asset/5dc3b5a1200000774f507f8d.jpeg?ops=scalefit_630_noupscale\n",
      "[6th] image_url = https://img.huffingtonpost.com/asset/5e47551a1e00002d0098978e.png?cache=6ozYp36JgD&ops=scalefit_630_noupscale\n",
      "[7th] image_url = https://t1.daumcdn.net/news/202001/15/ned/20200115113741843blxm.jpg\n",
      "[8th] image_url = http://www.viva100.com/mnt/images/file/2020y/03m/10d/2020031001000863800038641.jpg\n",
      "[9th] image_url = http://www.korea.kr/goNewsRes/attaches/editor/2019.11/24/20191124014752568_QMWEEW85.jpg\n",
      "[10th] image_url = https://t1.daumcdn.net/news/202207/05/JTBC/20220705095906793oarj.jpg\n",
      "[11th] image_url = https://t1.daumcdn.net/news/202002/11/poctan/20200211165810679rrxy.jpg\n",
      "[12th] image_url = http://t1.daumcdn.net/cafeattach/1YoQa/58ad3d662ddec4acb25d0944718298e552252389\n",
      "[13th] image_url = http://cfile289.uf.daum.net/image/996BCA385E24F37726F639\n",
      "[14th] image_url = https://img.huffingtonpost.com/asset/5e46509c2300005100163351.jpeg?ops=scalefit_630_noupscale\n",
      "[15th] image_url = https://postfiles.pstatic.net/MjAyMDA0MjRfNTgg/MDAxNTg3NzI2MjM4Mjkz.5AU-ujVVPGgt3y8dr8U9rXg3Uanyg17q799mbi1Agzkg.dhG88xn4Emv_AqxJSbDQfTe1KpSzrpVIIfTAHkE9he4g.JPEG.jysong100/1587726239344.jpg?type=w966\n",
      "[16th] image_url = https://img.huffingtonpost.com/asset/5dcfaca6210000906434d223.jpeg?ops=scalefit_630_noupscale\n",
      "[17th] image_url = https://t1.daumcdn.net/cafeattach/1YWEt/62eef33f4a9feac69d35bb2d267bdf6ce3c195bf\n",
      "[18th] image_url = https://t1.daumcdn.net/news/202002/11/tvdaily/20200211120009993qiql.jpg\n",
      "[19th] image_url = http://t1.daumcdn.net/cafeattach/1Uxhn/6c25942932e8a18340d5427e51de246d24e82c9e\n",
      "[20th] image_url = https://blog.kakaocdn.net/dn/dfyndf/btrIRFzLlvO/9Do5S3P7H5UidVZUHD5lg1/img.jpg\n",
      "[21th] image_url = https://img.huffingtonpost.com/asset/5dc79e431f00002c00dede37.png?ops=scalefit_630_noupscale\n",
      "[22th] image_url = https://t1.daumcdn.net/news/201912/11/tvdaily/20191211115202022cmyk.jpg\n",
      "[23th] image_url = https://blog.kakaocdn.net/dn/20bwg/btrGjceUbsw/eYlkDw7lkjAl0iRa3BHh71/img.jpg\n",
      "[24th] image_url = https://archivenew.vop.co.kr/images/61b0f4ea5afdbf3281ba7d17ffd0b934/2020-02/marked/12085125_123123123.jpg\n",
      "[25th] image_url = http://t1.daumcdn.net/cafeattach/Uzlo/ecdd8a7a111c87918c60a4c713ba81b5d0f422da\n",
      "[26th] image_url = https://t1.daumcdn.net/news/202001/09/newsen/20200109151247955nmgl.jpg\n",
      "[27th] image_url = http://www.viva100.com/mnt/images/file/2020y/01m/07d/2020010701000451200019351.jpg\n",
      "[28th] image_url = https://t1.daumcdn.net/news/202004/08/ilgansports/20200408080208647odeg.jpg\n",
      "[29th] image_url = https://t1.daumcdn.net/news/202002/12/starnews/20200212154823246okga.jpg\n",
      "[30th] image_url = http://t1.daumcdn.net/cafeattach/1YWEt/e84ebc9480905576bc3337bf172b56bd5bd33c35\n",
      "[31th] image_url = https://archivenew.vop.co.kr/images/206103ec62045d2e5d81e5cc3fb3a9c2/2019-12/marked/25023323_28304982340.jpg\n",
      "[32th] image_url = https://t1.daumcdn.net/news/202105/07/hani/20210507050629882olwt.jpg\n",
      "[33th] image_url = http://cfile241.uf.daum.net/image/999A974F5DB4E652327A04\n",
      "[34th] image_url = https://t1.daumcdn.net/news/202004/24/tvdaily/20200424160210622xapm.png\n",
      "[35th] image_url = https://t1.daumcdn.net/news/201911/25/tvdaily/20191125151903197laxi.jpg\n",
      "[36th] image_url = http://www.viva100.com/mnt/images/file/2020y/01m/30d/2020013001002196500097741.jpg\n",
      "[37th] image_url = https://blog.kakaocdn.net/dn/uBlCv/btqzOLgT3Bp/Nn5GSKy4N3If1LrOUNu081/img.jpg\n",
      "[38th] image_url = https://blog.kakaocdn.net/dn/cBG87r/btqDA54pzVO/Z57L0vBIY8a3180d87SN0k/img.png\n",
      "[39th] image_url = https://img.huffingtonpost.com/asset/5e310da11f0000a308859687.png?ops=scalefit_630_noupscale\n",
      "[40th] image_url = https://t1.daumcdn.net/news/202003/12/segye/20200312114432153asjd.jpg\n",
      "[41th] image_url = https://t1.daumcdn.net/news/201911/24/yonhap/20191124070506999gbxd.jpg\n",
      "[42th] image_url = https://t1.daumcdn.net/news/201910/18/THEFACT/20191018174424020jqnz.jpg\n",
      "[43th] image_url = https://t1.daumcdn.net/news/201912/21/joongangsunday/20191221002125484bxoz.jpg\n",
      "[44th] image_url = https://t1.daumcdn.net/news/202003/10/mediatoday/20200310160101663vrjd.jpg\n",
      "[45th] image_url = http://www.viva100.com/mnt/images/file/2019y/11m/29d/2019112901002306100103031.jpg\n",
      "[46th] image_url = http://www.energy-news.co.kr/news/photo/202003/69559_48517_440.jpg\n",
      "[47th] image_url = https://t1.daumcdn.net/news/202010/07/fnnewsi/20201007091714068wzlz.jpg\n",
      "[48th] image_url = https://blog.kakaocdn.net/dn/wFGRI/btrGhWDDVuW/KMKKkudksk9b5Ckbp16HO1/img.jpg\n",
      "[49th] image_url = http://www.viva100.com/mnt/images/file/2020y/03m/20d/2020032001001841200082921.jpg\n",
      "[50th] image_url = http://t1.daumcdn.net/cafeattach/1YWEt/ac591c170cc736fc14e042b2a02a0e4b34b927e6\n",
      "[51th] image_url = http://photo.hankooki.com/newsphoto/v001/2019/11/27/sol20191127215130_O_03_C_1.jpg\n",
      "[52th] image_url = https://postfiles.pstatic.net/MjAyMDAxMTlfMjQy/MDAxNTc5NDAyNTcwMzY5.soZ2O8decXNlKgqNtLkQPcz3iAXLpVszuEk64hGtDDQg.32Kh5cAbGCIazxE9Fy7JfDvByhEQ3NnfImeqmm7Snb4g.JPEG.nahye24/IMG_7626.jpg?type=w773\n",
      "[53th] image_url = https://t1.daumcdn.net/news/201911/22/etimesi/20191122152904121lkvk.jpg\n",
      "[54th] image_url = http://www.viva100.com/mnt/images/file/2020y/02m/04d/2020020401000273800012321.jpg\n",
      "[55th] image_url = http://t1.daumcdn.net/cafeattach/1YWEt/0110b3b1e60da5b3e855599b42b8cbfc97fdaf92\n",
      "[56th] image_url = https://t1.daumcdn.net/news/202002/11/Edaily/20200211122529758manw.jpg\n",
      "[57th] image_url = https://t1.daumcdn.net/news/202001/20/newsis/20200120170105045pflw.jpg\n",
      "[58th] image_url = http://t1.daumcdn.net/cafeattach/1YWEt/a0c0c6f48be3c858970f7ae5627a178090a794b0\n",
      "[59th] image_url = http://t1.daumcdn.net/cafeattach/1YWEt/e73b25320f5e52f20f93f93b604093bd1a422834\n",
      "[60th] image_url = https://t1.daumcdn.net/cafeattach/1YWEt/b9a4bad38ed6c8ce1afaff0186622bfcefc418eb\n",
      "[61th] image_url = https://t1.daumcdn.net/news/201912/24/hankooki/20191224102956522chci.jpg\n",
      "[62th] image_url = https://t1.daumcdn.net/news/201911/16/ked/20191116155937679okwq.jpg\n",
      "[63th] image_url = https://blog.kakaocdn.net/dn/nux2m/btrGg3iW8Nv/PWR9Ig58Kp7ootBT1JME40/img.jpg\n",
      "[64th] image_url = https://t1.daumcdn.net/news/201912/30/starnews/20191230194721811lxug.jpg\n",
      "[65th] image_url = http://t1.daumcdn.net/cafeattach/1YWEt/75a3df4e7b7f7300d78801b862d0bbd9079ec331\n",
      "[66th] image_url = https://t1.daumcdn.net/news/201911/16/akn/20191116152120153vnkl.jpg\n",
      "[67th] image_url = https://t1.daumcdn.net/news/201911/18/seoul/20191118173118241mwnl.jpg\n",
      "[68th] image_url = https://t1.daumcdn.net/news/202302/18/startoday/20230218155403406vjiv.jpg\n",
      "[69th] image_url = https://t1.daumcdn.net/news/202004/14/moneytoday/20200414180141269xdpj.png\n",
      "[70th] image_url = https://t1.daumcdn.net/news/202001/10/hani/20200110133603625vwuk.jpg\n",
      "[71th] image_url = https://t1.daumcdn.net/news/202009/24/chosun/20200924164620722ubfu.jpg\n",
      "[72th] image_url = https://dimg.donga.com/ugc/CDB/WOMAN/Article/5d/db/7f/26/5ddb7f2609acd2738de6.jpg\n",
      "[73th] image_url = https://t1.daumcdn.net/news/201912/29/dt/20191229190448786dnxq.jpg\n",
      "[74th] image_url = https://t1.daumcdn.net/cafeattach/1YWEt/bae5f9af0a63aff4503704569b03f44f4b0ad74c\n",
      "[75th] image_url = http://t1.daumcdn.net/cafeattach/1YmK3/c07fe44e12366336ae623848b22c373ba3ad15e6\n",
      "[76th] image_url = https://t1.daumcdn.net/news/202207/07/tvdaily/20220707124916520selb.jpg\n",
      "[77th] image_url = https://blog.kakaocdn.net/dn/b0FBU1/btsBojp03fl/IPoWLwtxGKYJQyCcT5iNkK/img.png\n",
      "[78th] image_url = http://optimal.inven.co.kr/upload/2019/11/08/bbs/i16277217528.jpg\n",
      "[79th] image_url = https://t1.daumcdn.net/news/202002/11/Babynews/20200211134524693hxpo.png\n"
     ]
    }
   ],
   "source": [
    "import requests\n",
    "import json\n",
    "\n",
    "# 이미지 검색\n",
    "url = \"https://dapi.kakao.com/v2/search/image\"\n",
    "headers = {\n",
    "    \"Authorization\" : \"KakaoAK 9bfada8c894ca9a2a63dc9e1a1328f31\"\n",
    "}\n",
    "data = {\n",
    "    \"query\" : \"펭수\"\n",
    "}\n",
    "\n",
    "# 이미지 검색 요청\n",
    "response = requests.post(url, headers=headers, data=data)\n",
    "# 요청에 실패했다면,\n",
    "if response.status_code != 200:\n",
    "    print(\"error! because \", response.json())\n",
    "else: # 성공했다면,\n",
    "    count = 0\n",
    "    for image_info in response.json()['documents']:\n",
    "        print(f\"[{count}th] image_url =\", image_info['image_url'])\n",
    "        # 저장될 이미지 파일명 설정\n",
    "        count = count + 1"
   ]
  },
  {
   "cell_type": "markdown",
   "metadata": {
    "id": "qqJAuwawRlDb"
   },
   "source": [
    "## Step 2) 이미지 파일 저장하기"
   ]
  },
  {
   "cell_type": "code",
   "execution_count": 5,
   "metadata": {
    "id": "NuG8RKkCRlDb"
   },
   "outputs": [],
   "source": [
    "# 이미지가 있는 image_url을 통해 file_name 파일로 저장하는 함수\n",
    "def save_image(image_url, file_name):\n",
    "    img_response = requests.get(image_url)\n",
    "    # 요청에 성공했다면,\n",
    "    if img_response.status_code == 200:\n",
    "        # 파일 저장\n",
    "        with open(file_name, \"wb\") as fp:\n",
    "            fp.write(img_response.content)"
   ]
  },
  {
   "cell_type": "markdown",
   "metadata": {
    "id": "vsdm4MsjRlDd"
   },
   "source": [
    "## Step 3) 전체 코드 완성하기"
   ]
  },
  {
   "cell_type": "code",
   "execution_count": 7,
   "metadata": {
    "id": "_kHoygVBRlDe"
   },
   "outputs": [
    {
     "name": "stdout",
     "output_type": "stream",
     "text": [
      "[0th] image_url = https://t1.daumcdn.net/cfile/tistory/9989BB3A5E005E1433\n",
      "[1th] image_url = http://www.viva100.com/mnt/images/file/2020y/04m/22d/2020042201001751400079881.jpg\n",
      "[2th] image_url = https://t1.daumcdn.net/news/202001/08/inews24/20200108172910467rmbl.jpg\n",
      "[3th] image_url = https://img.huffingtonpost.com/asset/5dc3b5a1210000675bad5191.jpeg?ops=scalefit_630_noupscale\n",
      "[4th] image_url = https://t1.daumcdn.net/news/201911/19/mk/20191119173322496cdol.jpg\n",
      "[5th] image_url = https://img.huffingtonpost.com/asset/5dc3b5a1200000774f507f8d.jpeg?ops=scalefit_630_noupscale\n",
      "[6th] image_url = https://img.huffingtonpost.com/asset/5e47551a1e00002d0098978e.png?cache=6ozYp36JgD&ops=scalefit_630_noupscale\n",
      "[7th] image_url = https://t1.daumcdn.net/news/202001/15/ned/20200115113741843blxm.jpg\n",
      "[8th] image_url = http://www.viva100.com/mnt/images/file/2020y/03m/10d/2020031001000863800038641.jpg\n",
      "[9th] image_url = http://www.korea.kr/goNewsRes/attaches/editor/2019.11/24/20191124014752568_QMWEEW85.jpg\n",
      "[10th] image_url = https://t1.daumcdn.net/news/202207/05/JTBC/20220705095906793oarj.jpg\n",
      "[11th] image_url = https://t1.daumcdn.net/news/202002/11/poctan/20200211165810679rrxy.jpg\n",
      "[12th] image_url = http://t1.daumcdn.net/cafeattach/1YoQa/58ad3d662ddec4acb25d0944718298e552252389\n",
      "[13th] image_url = http://cfile289.uf.daum.net/image/996BCA385E24F37726F639\n",
      "[14th] image_url = https://img.huffingtonpost.com/asset/5e46509c2300005100163351.jpeg?ops=scalefit_630_noupscale\n",
      "[15th] image_url = https://postfiles.pstatic.net/MjAyMDA0MjRfNTgg/MDAxNTg3NzI2MjM4Mjkz.5AU-ujVVPGgt3y8dr8U9rXg3Uanyg17q799mbi1Agzkg.dhG88xn4Emv_AqxJSbDQfTe1KpSzrpVIIfTAHkE9he4g.JPEG.jysong100/1587726239344.jpg?type=w966\n",
      "[16th] image_url = https://img.huffingtonpost.com/asset/5dcfaca6210000906434d223.jpeg?ops=scalefit_630_noupscale\n",
      "[17th] image_url = https://t1.daumcdn.net/cafeattach/1YWEt/62eef33f4a9feac69d35bb2d267bdf6ce3c195bf\n",
      "[18th] image_url = https://t1.daumcdn.net/news/202002/11/tvdaily/20200211120009993qiql.jpg\n",
      "[19th] image_url = http://t1.daumcdn.net/cafeattach/1Uxhn/6c25942932e8a18340d5427e51de246d24e82c9e\n",
      "[20th] image_url = https://blog.kakaocdn.net/dn/dfyndf/btrIRFzLlvO/9Do5S3P7H5UidVZUHD5lg1/img.jpg\n",
      "[21th] image_url = https://img.huffingtonpost.com/asset/5dc79e431f00002c00dede37.png?ops=scalefit_630_noupscale\n",
      "[22th] image_url = https://t1.daumcdn.net/news/201912/11/tvdaily/20191211115202022cmyk.jpg\n",
      "[23th] image_url = https://blog.kakaocdn.net/dn/20bwg/btrGjceUbsw/eYlkDw7lkjAl0iRa3BHh71/img.jpg\n",
      "[24th] image_url = https://archivenew.vop.co.kr/images/61b0f4ea5afdbf3281ba7d17ffd0b934/2020-02/marked/12085125_123123123.jpg\n",
      "[25th] image_url = http://t1.daumcdn.net/cafeattach/Uzlo/ecdd8a7a111c87918c60a4c713ba81b5d0f422da\n",
      "[26th] image_url = https://t1.daumcdn.net/news/202001/09/newsen/20200109151247955nmgl.jpg\n",
      "[27th] image_url = http://www.viva100.com/mnt/images/file/2020y/01m/07d/2020010701000451200019351.jpg\n",
      "[28th] image_url = https://t1.daumcdn.net/news/202004/08/ilgansports/20200408080208647odeg.jpg\n",
      "[29th] image_url = https://t1.daumcdn.net/news/202002/12/starnews/20200212154823246okga.jpg\n",
      "[30th] image_url = http://t1.daumcdn.net/cafeattach/1YWEt/e84ebc9480905576bc3337bf172b56bd5bd33c35\n",
      "[31th] image_url = https://archivenew.vop.co.kr/images/206103ec62045d2e5d81e5cc3fb3a9c2/2019-12/marked/25023323_28304982340.jpg\n",
      "[32th] image_url = https://t1.daumcdn.net/news/202105/07/hani/20210507050629882olwt.jpg\n",
      "[33th] image_url = http://cfile241.uf.daum.net/image/999A974F5DB4E652327A04\n",
      "[34th] image_url = https://t1.daumcdn.net/news/202004/24/tvdaily/20200424160210622xapm.png\n",
      "[35th] image_url = https://t1.daumcdn.net/news/201911/25/tvdaily/20191125151903197laxi.jpg\n",
      "[36th] image_url = http://www.viva100.com/mnt/images/file/2020y/01m/30d/2020013001002196500097741.jpg\n",
      "[37th] image_url = https://blog.kakaocdn.net/dn/uBlCv/btqzOLgT3Bp/Nn5GSKy4N3If1LrOUNu081/img.jpg\n",
      "[38th] image_url = https://blog.kakaocdn.net/dn/cBG87r/btqDA54pzVO/Z57L0vBIY8a3180d87SN0k/img.png\n",
      "[39th] image_url = https://img.huffingtonpost.com/asset/5e310da11f0000a308859687.png?ops=scalefit_630_noupscale\n",
      "[40th] image_url = https://t1.daumcdn.net/news/202003/12/segye/20200312114432153asjd.jpg\n",
      "[41th] image_url = https://t1.daumcdn.net/news/201911/24/yonhap/20191124070506999gbxd.jpg\n",
      "[42th] image_url = https://t1.daumcdn.net/news/201910/18/THEFACT/20191018174424020jqnz.jpg\n",
      "[43th] image_url = https://t1.daumcdn.net/news/201912/21/joongangsunday/20191221002125484bxoz.jpg\n",
      "[44th] image_url = https://t1.daumcdn.net/news/202003/10/mediatoday/20200310160101663vrjd.jpg\n",
      "[45th] image_url = http://www.viva100.com/mnt/images/file/2019y/11m/29d/2019112901002306100103031.jpg\n",
      "[46th] image_url = http://www.energy-news.co.kr/news/photo/202003/69559_48517_440.jpg\n",
      "[47th] image_url = https://t1.daumcdn.net/news/202010/07/fnnewsi/20201007091714068wzlz.jpg\n",
      "[48th] image_url = https://blog.kakaocdn.net/dn/wFGRI/btrGhWDDVuW/KMKKkudksk9b5Ckbp16HO1/img.jpg\n",
      "[49th] image_url = http://www.viva100.com/mnt/images/file/2020y/03m/20d/2020032001001841200082921.jpg\n",
      "[50th] image_url = http://t1.daumcdn.net/cafeattach/1YWEt/ac591c170cc736fc14e042b2a02a0e4b34b927e6\n",
      "[51th] image_url = http://photo.hankooki.com/newsphoto/v001/2019/11/27/sol20191127215130_O_03_C_1.jpg\n",
      "[52th] image_url = https://postfiles.pstatic.net/MjAyMDAxMTlfMjQy/MDAxNTc5NDAyNTcwMzY5.soZ2O8decXNlKgqNtLkQPcz3iAXLpVszuEk64hGtDDQg.32Kh5cAbGCIazxE9Fy7JfDvByhEQ3NnfImeqmm7Snb4g.JPEG.nahye24/IMG_7626.jpg?type=w773\n",
      "[53th] image_url = https://t1.daumcdn.net/news/201911/22/etimesi/20191122152904121lkvk.jpg\n",
      "[54th] image_url = http://www.viva100.com/mnt/images/file/2020y/02m/04d/2020020401000273800012321.jpg\n",
      "[55th] image_url = http://t1.daumcdn.net/cafeattach/1YWEt/0110b3b1e60da5b3e855599b42b8cbfc97fdaf92\n",
      "[56th] image_url = https://t1.daumcdn.net/news/202002/11/Edaily/20200211122529758manw.jpg\n",
      "[57th] image_url = https://t1.daumcdn.net/news/202001/20/newsis/20200120170105045pflw.jpg\n",
      "[58th] image_url = http://t1.daumcdn.net/cafeattach/1YWEt/a0c0c6f48be3c858970f7ae5627a178090a794b0\n",
      "[59th] image_url = http://t1.daumcdn.net/cafeattach/1YWEt/e73b25320f5e52f20f93f93b604093bd1a422834\n",
      "[60th] image_url = https://t1.daumcdn.net/cafeattach/1YWEt/b9a4bad38ed6c8ce1afaff0186622bfcefc418eb\n",
      "[61th] image_url = https://t1.daumcdn.net/news/201912/24/hankooki/20191224102956522chci.jpg\n",
      "[62th] image_url = https://t1.daumcdn.net/news/201911/16/ked/20191116155937679okwq.jpg\n",
      "[63th] image_url = https://blog.kakaocdn.net/dn/nux2m/btrGg3iW8Nv/PWR9Ig58Kp7ootBT1JME40/img.jpg\n",
      "[64th] image_url = https://t1.daumcdn.net/news/201912/30/starnews/20191230194721811lxug.jpg\n",
      "[65th] image_url = http://t1.daumcdn.net/cafeattach/1YWEt/75a3df4e7b7f7300d78801b862d0bbd9079ec331\n",
      "[66th] image_url = https://t1.daumcdn.net/news/201911/16/akn/20191116152120153vnkl.jpg\n",
      "[67th] image_url = https://t1.daumcdn.net/news/201911/18/seoul/20191118173118241mwnl.jpg\n",
      "[68th] image_url = https://t1.daumcdn.net/news/202302/18/startoday/20230218155403406vjiv.jpg\n",
      "[69th] image_url = https://t1.daumcdn.net/news/202004/14/moneytoday/20200414180141269xdpj.png\n",
      "[70th] image_url = https://t1.daumcdn.net/news/202001/10/hani/20200110133603625vwuk.jpg\n",
      "[71th] image_url = https://t1.daumcdn.net/news/202009/24/chosun/20200924164620722ubfu.jpg\n",
      "[72th] image_url = https://dimg.donga.com/ugc/CDB/WOMAN/Article/5d/db/7f/26/5ddb7f2609acd2738de6.jpg\n",
      "[73th] image_url = https://t1.daumcdn.net/news/201912/29/dt/20191229190448786dnxq.jpg\n",
      "[74th] image_url = https://t1.daumcdn.net/cafeattach/1YWEt/bae5f9af0a63aff4503704569b03f44f4b0ad74c\n",
      "[75th] image_url = http://t1.daumcdn.net/cafeattach/1YmK3/c07fe44e12366336ae623848b22c373ba3ad15e6\n",
      "[76th] image_url = https://t1.daumcdn.net/news/202207/07/tvdaily/20220707124916520selb.jpg\n",
      "[77th] image_url = https://blog.kakaocdn.net/dn/b0FBU1/btsBojp03fl/IPoWLwtxGKYJQyCcT5iNkK/img.png\n",
      "[78th] image_url = http://optimal.inven.co.kr/upload/2019/11/08/bbs/i16277217528.jpg\n",
      "[79th] image_url = https://t1.daumcdn.net/news/202002/11/Babynews/20200211134524693hxpo.png\n"
     ]
    }
   ],
   "source": [
    "import requests\n",
    "import json\n",
    "\n",
    "# 이미지가 있는 image_url을 통해 file_name 파일로 저장하는 함수\n",
    "def save_image(image_url, file_name):\n",
    "    img_response = requests.get(image_url)\n",
    "    # 요청에 성공했다면,\n",
    "    if img_response.status_code == 200:\n",
    "        # 파일 저장\n",
    "        with open(file_name, \"wb\") as fp:\n",
    "            fp.write(img_response.content)\n",
    "\n",
    "# 이미지 검색\n",
    "url = \"https://dapi.kakao.com/v2/search/image\"\n",
    "headers = {\n",
    "    \"Authorization\" : \"KakaoAK 9bfada8c894ca9a2a63dc9e1a1328f31\"\n",
    "}\n",
    "data = {\n",
    "    \"query\" : \"펭수\"\n",
    "}\n",
    "\n",
    "# 이미지 검색 요청\n",
    "response = requests.post(url, headers=headers, data=data)\n",
    "# 요청에 실패했다면,\n",
    "if response.status_code != 200:\n",
    "    print(\"error! because \", response.json())\n",
    "else: # 성공했다면,\n",
    "    count = 0\n",
    "    for image_info in response.json()['documents']:\n",
    "        print(f\"[{count}th] image_url =\", image_info['image_url'])\n",
    "        # 저장될 이미지 파일명 설정\n",
    "        count = count + 1\n",
    "        file_name = \"test_%d.jpg\" %(count)\n",
    "        # 이미지 저장\n",
    "        save_image(image_info['image_url'], file_name)"
   ]
  }
 ],
 "metadata": {
  "colab": {
   "collapsed_sections": [],
   "name": "image_download.ipynb",
   "provenance": []
  },
  "kernelspec": {
   "display_name": "Python 3",
   "language": "python",
   "name": "python3"
  },
  "language_info": {
   "codemirror_mode": {
    "name": "ipython",
    "version": 3
   },
   "file_extension": ".py",
   "mimetype": "text/x-python",
   "name": "python",
   "nbconvert_exporter": "python",
   "pygments_lexer": "ipython3",
   "version": "3.8.5"
  }
 },
 "nbformat": 4,
 "nbformat_minor": 1
}
